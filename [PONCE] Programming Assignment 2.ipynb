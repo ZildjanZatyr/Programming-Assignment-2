{
 "cells": [
  {
   "cell_type": "markdown",
   "id": "c4922097-d82b-4c22-81b8-a95c4543e5b9",
   "metadata": {},
   "source": [
    "# EXPERIMENT 2 - NUMERICAL PYTHON\n",
    "# NORMALIZATION PROBLEM\n",
    "In this problem, create a random 5x5 ndarray and store it to variable X"
   ]
  },
  {
   "cell_type": "code",
   "execution_count": 27,
   "id": "cd18e4e2-4043-4198-92e4-1d36537bbb4c",
   "metadata": {},
   "outputs": [
    {
     "data": {
      "text/plain": [
       "array([[0.90345154, 0.76418973, 0.64600677, 0.59218466, 0.59919997],\n",
       "       [0.6427485 , 0.88148967, 0.83195243, 0.50288159, 0.35782585],\n",
       "       [0.36796953, 0.24944635, 0.29363839, 0.05075701, 0.31048219],\n",
       "       [0.98642486, 0.54361543, 0.56356058, 0.68117071, 0.83567095],\n",
       "       [0.76682313, 0.16570682, 0.98443411, 0.45209394, 0.03226127]])"
      ]
     },
     "execution_count": 27,
     "metadata": {},
     "output_type": "execute_result"
    }
   ],
   "source": [
    "import numpy as np\n",
    "\n",
    "X = np.random.random((5, 5))\n",
    "\n",
    "def normalization(X):\n",
    "    normal = (X - np.mean(X))/np.std(X)\n",
    "    return normal\n",
    "\n",
    "np.save('X_normalized.npy', normalization(X))\n",
    "X"
   ]
  },
  {
   "cell_type": "code",
   "execution_count": 29,
   "id": "34e6593a-3fc7-462d-9ec8-7a6421f0d1f8",
   "metadata": {},
   "outputs": [
    {
     "name": "stdout",
     "output_type": "stream",
     "text": [
      "Mean: 0.5602394389562219\n",
      "\n",
      "Standard Deviation: 0.2731\n",
      "\n",
      "Normalized Matrix:\n",
      "\n",
      " [[ 1.256552    0.74669323  0.31400733  0.11695635  0.14264047]\n",
      " [ 0.3020783   1.17614626  0.99478282 -0.20999586 -0.74106712]\n",
      " [-0.70392955 -1.13786105 -0.97606724 -1.86529312 -0.91439952]\n",
      " [ 1.56033003 -0.06086305  0.01215919  0.44274788  1.00839692]\n",
      " [ 0.75633449 -1.44444428  1.5530416  -0.39593721 -1.93300887]]\n"
     ]
    }
   ],
   "source": [
    "X_normalized = np.load(\"X_normalized.npy\")\n",
    "rounded_std = round(np.std(X),4)\n",
    "\n",
    "print(\"Mean:\", X.mean())\n",
    "print(\"\\nStandard Deviation:\", rounded_std)\n",
    "print(\"\\nNormalized Matrix:\\n\\n\", X_normalized)"
   ]
  },
  {
   "cell_type": "markdown",
   "id": "b7dcb651-6834-4892-908b-0438e8b88fdc",
   "metadata": {},
   "source": [
    "# DIVISIBLE BY 3 PROBLEM\n",
    "Create the 10x10 ndarray"
   ]
  },
  {
   "cell_type": "code",
   "execution_count": 1,
   "id": "1d058620-466b-4d25-bbc2-8061c600cc34",
   "metadata": {},
   "outputs": [
    {
     "name": "stdout",
     "output_type": "stream",
     "text": [
      "The Squares of the First 100 Positive Integers:\n",
      "\n",
      " [[    1     4     9    16    25    36    49    64    81   100]\n",
      " [  121   144   169   196   225   256   289   324   361   400]\n",
      " [  441   484   529   576   625   676   729   784   841   900]\n",
      " [  961  1024  1089  1156  1225  1296  1369  1444  1521  1600]\n",
      " [ 1681  1764  1849  1936  2025  2116  2209  2304  2401  2500]\n",
      " [ 2601  2704  2809  2916  3025  3136  3249  3364  3481  3600]\n",
      " [ 3721  3844  3969  4096  4225  4356  4489  4624  4761  4900]\n",
      " [ 5041  5184  5329  5476  5625  5776  5929  6084  6241  6400]\n",
      " [ 6561  6724  6889  7056  7225  7396  7569  7744  7921  8100]\n",
      " [ 8281  8464  8649  8836  9025  9216  9409  9604  9801 10000]]\n"
     ]
    }
   ],
   "source": [
    "import numpy as np\n",
    "\n",
    "A = np.arange(1, 101, 1)**2\n",
    "A = A.reshape(10, 10) \n",
    "\n",
    "def div3(array):\n",
    "    return array[array % 3 == 0]\n",
    "\n",
    "A_div3 = div3(A.flatten())\n",
    "np.save(\"div_by_3.npy\", A_div3)\n",
    "\n",
    "print(\"The Squares of the First 100 Positive Integers:\\n\\n\", A)"
   ]
  },
  {
   "cell_type": "code",
   "execution_count": 3,
   "id": "d1296f8a-23b2-4a85-8987-83658bdf40c8",
   "metadata": {},
   "outputs": [
    {
     "name": "stdout",
     "output_type": "stream",
     "text": [
      "The Elements that are divisible by 3:\n",
      "\n",
      " [   9   36   81  144  225  324  441  576  729  900 1089 1296 1521 1764\n",
      " 2025 2304 2601 2916 3249 3600 3969 4356 4761 5184 5625 6084 6561 7056\n",
      " 7569 8100 8649 9216 9801]\n"
     ]
    }
   ],
   "source": [
    "div3_matrix = np.load(\"div_by_3.npy\")\n",
    "\n",
    "print(\"The Elements that are divisible by 3:\\n\\n\",div3_matrix)"
   ]
  }
 ],
 "metadata": {
  "kernelspec": {
   "display_name": "Python 3 (ipykernel)",
   "language": "python",
   "name": "python3"
  },
  "language_info": {
   "codemirror_mode": {
    "name": "ipython",
    "version": 3
   },
   "file_extension": ".py",
   "mimetype": "text/x-python",
   "name": "python",
   "nbconvert_exporter": "python",
   "pygments_lexer": "ipython3",
   "version": "3.12.4"
  }
 },
 "nbformat": 4,
 "nbformat_minor": 5
}
